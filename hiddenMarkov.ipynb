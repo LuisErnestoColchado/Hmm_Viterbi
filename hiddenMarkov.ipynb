{
 "cells": [
  {
   "cell_type": "code",
   "execution_count": 1,
   "metadata": {},
   "outputs": [],
   "source": [
    "#!/usr/bin/env python3\n",
    "# -*- coding: utf-8 -*-\n",
    "\"\"\"\n",
    "Created on Mon Dec 17 15:28:25 2018\n",
    "\n",
    "@author: luisernestocolchado\n",
    "\"\"\"\n",
    "\n",
    "import numpy as np\n",
    "import itertools"
   ]
  },
  {
   "cell_type": "code",
   "execution_count": 2,
   "metadata": {},
   "outputs": [],
   "source": [
    "f = open(b\"esp.train.txt\",\"r\",encoding='ISO-8859-1')\n",
    "data = f.readlines()\n",
    "data = itertools.islice(data, 0, 10000)\n",
    "data = [x for x in data]\n",
    "\n",
    "f.close()"
   ]
  },
  {
   "cell_type": "code",
   "execution_count": 3,
   "metadata": {},
   "outputs": [],
   "source": [
    "states = []\n",
    "for line in data:\n",
    "    line = line.split()\n",
    "    if len(line) > 0:\n",
    "        if line[1] not in states:\n",
    "            states.append(line[1])"
   ]
  },
  {
   "cell_type": "code",
   "execution_count": 4,
   "metadata": {},
   "outputs": [
    {
     "name": "stdout",
     "output_type": "stream",
     "text": [
      "[['B-LOC', 0.01831160769708256], ['O', 0.8693358162631906], ['B-ORG', 0.03548520587626733], ['B-PER', 0.014587212911235258], ['I-PER', 0.01313883716118353], ['B-MISC', 0.007862611214566521], ['I-ORG', 0.023174012000827644], ['I-LOC', 0.0040347610180012415], ['I-MISC', 0.014069935857645354]]\n",
      "sumTotal:  1.0\n"
     ]
    }
   ],
   "source": [
    "startProbability = []\n",
    "sumV =0\n",
    "for state in states:\n",
    "    count = 0\n",
    "    total = 0 \n",
    "    for line in data:\n",
    "        line = line.split()\n",
    "        if len(line) > 0:\n",
    "            if line[1] == state:\n",
    "                count += 1\n",
    "            total +=1 \n",
    "    values = []\n",
    "    startP = count / total\n",
    "    values.append(state)\n",
    "    values.append(startP)\n",
    "    sumV += startP\n",
    "    startProbability.append(values)\n",
    "print(startProbability)\n",
    "print(\"sumTotal: \",sumV)"
   ]
  },
  {
   "cell_type": "code",
   "execution_count": 5,
   "metadata": {},
   "outputs": [],
   "source": [
    "transitionProbability = []\n",
    "\n",
    "for state in states:\n",
    "    probability = []\n",
    "    for eachState in states:\n",
    "        count1 = 0.0\n",
    "        count2 = 0.0\n",
    "        for x in range(len(data)-1):\n",
    "            first = data[x].split()\n",
    "            second = data[x+1].split()\n",
    "            if(len(first) > 0 and len(second) > 0):\n",
    "                if first[1] == state:\n",
    "                    count2 += 1.0\n",
    "                    if second[1] == eachState:\n",
    "                        count1 += 1.0\n",
    "        prob = count1 / count2\n",
    "        probability.append(prob)\n",
    "\n",
    "    transitionProbability.append(probability)"
   ]
  },
  {
   "cell_type": "code",
   "execution_count": 6,
   "metadata": {},
   "outputs": [],
   "source": [
    "emissionProbability = []\n",
    "\n",
    "words = []\n",
    "for line in data:\n",
    "    line = line.split()\n",
    "    if len(line) > 0:\n",
    "        if line[0] not in words:\n",
    "            words.append(line[0])\n",
    "\n",
    "occurancesTags = []\n",
    "for state in states:\n",
    "    count = 0.0\n",
    "    for line in data:\n",
    "        line = line.split()\n",
    "        if len(line) > 0:\n",
    "            if line[1] == state:\n",
    "                count += 1.0\n",
    "    occurancesTags.append(count)\n",
    "\n"
   ]
  },
  {
   "cell_type": "code",
   "execution_count": 7,
   "metadata": {},
   "outputs": [],
   "source": [
    "for tag, occurances in zip(states, occurancesTags):\n",
    "    emissionProbabilityTag = []\n",
    "    for word in words:\n",
    "        count = 0.0\n",
    "        for line in data:\n",
    "            line = line.split()\n",
    "            if(len(line) > 0):\n",
    "                if line[0] == word and line[1] == tag:\n",
    "                    count += 1.0\n",
    "        if occurances > 0:\n",
    "            emissionProbabilityTag.append(count / occurances)\n",
    "        else:\n",
    "            continue\n",
    "    emissionProbability.append(emissionProbabilityTag)\n",
    "    "
   ]
  },
  {
   "cell_type": "code",
   "execution_count": 8,
   "metadata": {},
   "outputs": [
    {
     "name": "stdout",
     "output_type": "stream",
     "text": [
      "0.9999999999999999\n"
     ]
    }
   ],
   "source": [
    "emnp = np.asarray(emissionProbability[5])\n",
    "print(emnp.sum(0))"
   ]
  },
  {
   "cell_type": "code",
   "execution_count": 9,
   "metadata": {},
   "outputs": [
    {
     "name": "stdout",
     "output_type": "stream",
     "text": [
      "Probability  2.973039245703331e-05\n",
      "Viterbi path:  [0. 1. 0. ... 1. 1. 1.]\n"
     ]
    }
   ],
   "source": [
    "#Implementation viterbi\n",
    "class Node:\n",
    "    def __init__(self,arrayPath,probability):\n",
    "        self.arrayPath = arrayPath\n",
    "        self.probability = probability\n",
    "    \n",
    "    def updateParameters(self,arrayPath,probability):\n",
    "        self.arrayPath = arrayPath\n",
    "        self.probability = probability\n",
    "        \n",
    "def addNext(arrayInt,newInt):\n",
    "    newArray = np.zeros((len(arrayInt)+1))\n",
    "    for i in range(0,len(arrayInt)):\n",
    "        newArray[i] = arrayInt[i]\n",
    "    newArray[len(arrayInt)] = newInt\n",
    "    return newArray\n",
    "\n",
    "\n",
    "def Viterbi(words,states1,startProbability1,transitionProbability1,emissionProbability1,T,U):\n",
    "    states = np.asarray(states1)\n",
    "    startProbability = np.asarray(startProbability1)\n",
    "    transitionProbability = np.asarray(transitionProbability1)\n",
    "    emissionProbability = np.asarray(emissionProbability1)\n",
    "    for i in range(0,len(states)):\n",
    "        arrayInt = np.zeros((1))\n",
    "        arrayInt[0] = i \n",
    "        T[i].updateParameters(arrayInt,float(startProbability[i][1]) * float(emissionProbability[i][0]))\n",
    " \n",
    "    argmax = [0]  \n",
    "    valmaxacu=0.0;\n",
    "    for j in range(1,len(words)):     \n",
    "        \n",
    "        for next_state in range(0,len(states)):\n",
    "            valmax = 0.0  \n",
    "            for k in range(0,len(states)):\n",
    "                path = T[k].arrayPath\n",
    "                prob = T[k].probability\n",
    "                p = emissionProbability[next_state][j] * transitionProbability[k][next_state]\n",
    "                prob *= p\n",
    "                if(prob > valmax):\n",
    "                    valmax = prob\n",
    "                    if(len(path) == len(words)):\n",
    "                        argmax = path\n",
    "                    else:\n",
    "                        argmax = addNext(path,next_state)                   \n",
    "            valmaxacu+=valmax                \n",
    "            U[next_state].updateParameters(argmax,valmaxacu)\n",
    "        T = U\n",
    "    argmax = [0.]\n",
    "    valmax = 0.0\n",
    "    for state in range (0,len(states)):\n",
    "        path = T[state].arrayPath\n",
    "        prob = T[state].probability\n",
    "        if(prob > valmax):\n",
    "            argmax = path\n",
    "            valmax = prob\n",
    "    print(\"Probability \",valmax)\n",
    "    return argmax\n",
    "\n",
    "U = [Node([0],0.0) for x in range(len(states))]\n",
    "T = [Node([0],0.0) for x in range(len(states))]\n",
    "result = Viterbi(words,states,startProbability,transitionProbability,emissionProbability,T,U)    \n",
    "print(\"Viterbi path: \",result)"
   ]
  }
 ],
 "metadata": {
  "kernelspec": {
   "display_name": "Python 3",
   "language": "python",
   "name": "python3"
  },
  "language_info": {
   "codemirror_mode": {
    "name": "ipython",
    "version": 3
   },
   "file_extension": ".py",
   "mimetype": "text/x-python",
   "name": "python",
   "nbconvert_exporter": "python",
   "pygments_lexer": "ipython3",
   "version": "3.7.0"
  }
 },
 "nbformat": 4,
 "nbformat_minor": 2
}
